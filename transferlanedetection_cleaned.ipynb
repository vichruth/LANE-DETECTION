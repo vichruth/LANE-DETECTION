{
 "cells": [
  {
   "cell_type": "code",
   "execution_count": null,
   "metadata": {
    "colab": {
     "base_uri": "https://localhost:8080/",
     "height": 276,
     "referenced_widgets": [
      "61f0a0dff1ca465cafa1cf3f26297b99",
      "435352644e824270b07c63ff92299646",
      "a58bc833a3b84090b73aa2fa25b3eabe",
      "f639109c49ce471a879961ddce884c1f",
      "c5beb1673a5644c09e48b6eceaed24e9",
      "e30f2920cc48487e8d7b8eea4b641024",
      "38ca21204f344d23b8d2907e1e468153",
      "5bfe07bad80047ff804330c13af315b3",
      "45b73141b38a499cae43c604f2f06bdf",
      "78f0bfa521ad454892d236af7ad7b9a2",
      "66e4b985aa7b43589fba32be8055944c",
      "974008009cfd44a3985dae6c8feedc86",
      "31643699c8b04702846997188b57044b",
      "c125f39d740047ec9a1ade374f3ff457",
      "bbd70378c148454bacb1466d7821d592",
      "ed2f13f96beb4ca0b211072f26d343c4",
      "3a4530c7f0ac4d78857e5d5ef02e3dd2",
      "d5458b09fef044c3a3c0a8ec23c0d450",
      "fc933b07d0724e94ab2558cb93ed876c",
      "0a8174e61ab14065af01d7113040825d",
      "47f96c4d1505439d9b10ee8d4f988c98",
      "7e44620e8b13417b922adaf96f114591",
      "b2cc700b9a894601806e245fd933aceb",
      "8f9fe7b1102549e287f17470eeb502e6",
      "998d9a8b770246758389393c5dbd06a6",
      "a150f1b7520847d1b21885940f0d1f82",
      "1d02b718f4c347ef9701ea699c9965cb",
      "43258c07e2ff43b1baf663cf6fe29af0",
      "65e038fc243d479cbc34a5ad6ce3f2fa",
      "30f2270fbe644ac3adff19ede6005cfc",
      "daef521c4983460d8328dd3e33557c00",
      "45f27ac203114a8a879d540eccd920f7",
      "a51bfe05638b424d9aacee6bfa9151eb"
     ]
    },
    "executionInfo": {
     "elapsed": 43032,
     "status": "ok",
     "timestamp": 1750140492019,
     "user": {
      "displayName": "Vichruth M 24BCE2300",
      "userId": "16395718520409958807"
     },
     "user_tz": -330
    },
    "id": "6MQDqerrfywe",
    "outputId": "1f646108-eced-4b0e-b308-b9866bd090bf"
   },
   "outputs": [],
   "source": [
    "# Use a pipeline as a high-level helper\n",
    "from transformers import pipeline\n",
    "\n",
    "pipe = pipeline(\"image-segmentation\", model=\"bricklerex/lane-detect-jds\")"
   ]
  },
  {
   "cell_type": "code",
   "execution_count": null,
   "metadata": {
    "executionInfo": {
     "elapsed": 381,
     "status": "ok",
     "timestamp": 1750140557408,
     "user": {
      "displayName": "Vichruth M 24BCE2300",
      "userId": "16395718520409958807"
     },
     "user_tz": -330
    },
    "id": "nVk_CRrmgXdC"
   },
   "outputs": [],
   "source": [
    "# Load model directly\n",
    "from transformers import AutoImageProcessor, SegformerForSemanticSegmentation\n",
    "\n",
    "processor = AutoImageProcessor.from_pretrained(\"bricklerex/lane-detect-jds\")\n",
    "model = SegformerForSemanticSegmentation.from_pretrained(\"bricklerex/lane-detect-jds\")"
   ]
  },
  {
   "cell_type": "code",
   "execution_count": null,
   "metadata": {
    "colab": {
     "base_uri": "https://localhost:8080/"
    },
    "executionInfo": {
     "elapsed": 895363,
     "status": "ok",
     "timestamp": 1750142748705,
     "user": {
      "displayName": "Vichruth M 24BCE2300",
      "userId": "16395718520409958807"
     },
     "user_tz": -330
    },
    "id": "ww9qziRjiHE8",
    "outputId": "d79f0331-b03c-4a7f-9c1e-39edd4e598fc"
   },
   "outputs": [],
   "source": [
    "from moviepy.editor import VideoFileClip\n",
    "from PIL import Image\n",
    "import numpy as np\n",
    "import torch\n",
    "\n",
    "def process_frame(frame):\n",
    "    img = Image.fromarray(frame).resize((512, 512))\n",
    "    inputs = processor(images=img, return_tensors=\"pt\")\n",
    "    with torch.no_grad():\n",
    "        outputs = model(**inputs)\n",
    "    mask = outputs.logits.argmax(dim=1)[0].cpu().numpy()\n",
    "\n",
    "    colored_mask = np.zeros((mask.shape[0], mask.shape[1], 3), dtype=np.uint8)\n",
    "    colored_mask[mask == 1] = [0, 255, 0]\n",
    "\n",
    "    # Resize the colored_mask to match the size of the resized image\n",
    "    colored_mask_resized = Image.fromarray(colored_mask).resize((512, 512))\n",
    "    colored_mask_resized = np.array(colored_mask_resized)\n",
    "\n",
    "    overlay = (0.6 * np.array(img) + 0.4 * colored_mask_resized).astype(np.uint8)\n",
    "    return overlay\n",
    "\n",
    "clip = VideoFileClip(\"lanes_clip.mp4\")\n",
    "processed_clip = clip.fl_image(process_frame)\n",
    "processed_clip.write_videofile(\"lane_output.mp4\", audio=False)"
   ]
  },
  {
   "cell_type": "code",
   "execution_count": null,
   "metadata": {
    "colab": {
     "base_uri": "https://localhost:8080/"
    },
    "executionInfo": {
     "elapsed": 23929,
     "status": "ok",
     "timestamp": 1750144212067,
     "user": {
      "displayName": "Vichruth M 24BCE2300",
      "userId": "16395718520409958807"
     },
     "user_tz": -330
    },
    "id": "TH8OjjN6uPIX",
    "outputId": "d16cb61f-2cf8-46bb-af0b-0cff0e2de470"
   },
   "outputs": [],
   "source": [
    "from google.colab import drive\n",
    "drive.mount('/content/drive')"
   ]
  },
  {
   "cell_type": "code",
   "execution_count": null,
   "metadata": {
    "colab": {
     "base_uri": "https://localhost:8080/"
    },
    "executionInfo": {
     "elapsed": 70,
     "status": "ok",
     "timestamp": 1750144723295,
     "user": {
      "displayName": "Vichruth M 24BCE2300",
      "userId": "16395718520409958807"
     },
     "user_tz": -330
    },
    "id": "GSdJ8knfuD2H",
    "outputId": "ead68a59-7163-4a4b-81ee-0a95ff0d7f17"
   },
   "outputs": [],
   "source": [
    "!ls /content/drive/MyDrive/Colab\\ Notebooks"
   ]
  },
  {
   "cell_type": "code",
   "execution_count": null,
   "metadata": {
    "colab": {
     "base_uri": "https://localhost:8080/",
     "height": 233
    },
    "executionInfo": {
     "elapsed": 62,
     "status": "error",
     "timestamp": 1750144708461,
     "user": {
      "displayName": "Vichruth M 24BCE2300",
      "userId": "16395718520409958807"
     },
     "user_tz": -330
    },
    "id": "ZFo5ZdGMtSv-",
    "outputId": "044c8945-c220-4b47-d4d7-b3567048cbb3"
   },
   "outputs": [],
   "source": [
    "import nbformat\n",
    "\n",
    "# Load the current notebook\n",
    "notebook_path = \"/content/drive/MyDrive/Colab\\ Notebooks\\transferlanedetection\"  # replace with your actual notebook name\n",
    "with open(notebook_path, \"r\", encoding=\"utf-8\") as f:\n",
    "    nb = nbformat.read(f, as_version=4)\n",
    "\n",
    "# Remove broken widgets metadata if it exists\n",
    "if \"widgets\" in nb[\"metadata\"]:\n",
    "    del nb[\"metadata\"][\"widgets\"]\n",
    "\n",
    "# Save the cleaned notebook\n",
    "with open(notebook_path, \"w\", encoding=\"utf-8\") as f:\n",
    "    nbformat.write(nb, f)\n",
    "\n",
    "print(\"✅ Notebook metadata cleaned.\")\n"
   ]
  }
 ],
 "metadata": {},
 "nbformat": 4,
 "nbformat_minor": 0
}
