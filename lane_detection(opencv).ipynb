{
  "nbformat": 4,
  "nbformat_minor": 0,
  "metadata": {
    "colab": {
      "provenance": [],
      "gpuType": "T4",
      "authorship_tag": "ABX9TyNwlYh8jJfTucXMb0jfbfLg",
      "include_colab_link": true
    },
    "kernelspec": {
      "name": "python3",
      "display_name": "Python 3"
    },
    "language_info": {
      "name": "python"
    },
    "accelerator": "GPU"
  },
  "cells": [
    {
      "cell_type": "markdown",
      "metadata": {
        "id": "view-in-github",
        "colab_type": "text"
      },
      "source": [
        "<a href=\"https://colab.research.google.com/github/vichruth/LANE-DETECTION/blob/main/lane_detection(opencv).ipynb\" target=\"_parent\"><img src=\"https://colab.research.google.com/assets/colab-badge.svg\" alt=\"Open In Colab\"/></a>"
      ]
    },
    {
      "cell_type": "code",
      "execution_count": null,
      "metadata": {
        "id": "3phliPEAKcGY"
      },
      "outputs": [],
      "source": [
        "from google.colab import files"
      ]
    },
    {
      "cell_type": "code",
      "source": [
        "uploaded=files.upload()"
      ],
      "metadata": {
        "id": "1fscfLqOJDB6"
      },
      "execution_count": null,
      "outputs": []
    },
    {
      "cell_type": "code",
      "source": [
        "import cv2\n",
        "import numpy as np\n",
        "\n",
        "def region_of_interest(img, vertices):\n",
        "    mask = np.zeros_like(img)\n",
        "    cv2.fillPoly(mask, [vertices], 255)\n",
        "    masked = cv2.bitwise_and(img, mask)\n",
        "    return masked\n",
        "\n",
        "def draw_lines(img, lines):\n",
        "    for line in lines:\n",
        "        x1, y1, x2, y2 = line[0]\n",
        "        cv2.line(img, (x1, y1), (x2, y2), (0, 255, 0), 3)\n",
        "\n",
        "def process_frame(frame):\n",
        "    gray = cv2.cvtColor(frame, cv2.COLOR_BGR2GRAY)\n",
        "    blur = cv2.GaussianBlur(gray, (5, 5), 0)\n",
        "    edges = cv2.Canny(blur, 50, 150)\n",
        "\n",
        "    height, width = frame.shape[:2]\n",
        "    roi_vertices = np.array([[\n",
        "        (0, height),\n",
        "        (width / 2, height / 2),\n",
        "        (width, height)\n",
        "    ]], dtype=np.int32)\n",
        "\n",
        "    cropped = region_of_interest(edges, roi_vertices[0])\n",
        "    lines = cv2.HoughLinesP(cropped, 1, np.pi/180, 50, maxLineGap=150)\n",
        "\n",
        "    line_img = np.zeros_like(frame)\n",
        "    if lines is not None:\n",
        "        draw_lines(line_img, lines)\n",
        "\n",
        "    return cv2.addWeighted(frame, 0.8, line_img, 1, 0)\n",
        "\n",
        "cap = cv2.VideoCapture(\"lanes_clip.mp4\")\n",
        "while cap.isOpened():\n",
        "    ret, frame = cap.read()\n",
        "    if not ret:\n",
        "        break\n",
        "    lane_frame = process_frame(frame)\n",
        "    from google.colab.patches import cv2_imshow\n",
        "    cv2_imshow(lane_frame)\n",
        "    if cv2.waitKey(1) & 0xFF == ord('q'):\n",
        "        break\n",
        "cap.release()\n",
        "cv2.destroyAllWindows()\n"
      ],
      "metadata": {
        "id": "N9zgrjPLL3Qt"
      },
      "execution_count": null,
      "outputs": []
    }
  ]
}